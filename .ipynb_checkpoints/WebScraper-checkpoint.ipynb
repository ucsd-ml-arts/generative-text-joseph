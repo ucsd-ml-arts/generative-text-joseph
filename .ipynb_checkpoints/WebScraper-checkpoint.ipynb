{
 "cells": [
  {
   "cell_type": "markdown",
   "metadata": {},
   "source": [
    "# Webscraping Lyrics with Beautiful Soup"
   ]
  },
  {
   "cell_type": "code",
   "execution_count": 59,
   "metadata": {},
   "outputs": [],
   "source": [
    "import lyricsgenius\n",
    "import os"
   ]
  },
  {
   "cell_type": "markdown",
   "metadata": {},
   "source": [
    "### Find songs (change max_song to 300 for final version)"
   ]
  },
  {
   "cell_type": "code",
   "execution_count": 74,
   "metadata": {},
   "outputs": [
    {
     "name": "stdout",
     "output_type": "stream",
     "text": [
      "Searching for songs by Bobby Darin...\n",
      "\n",
      "Song 1: \"18 Yellow Roses\"\n",
      "Song 2: \"About a Quarter to Nine\"\n",
      "Song 3: \"About You\"\n",
      "\n",
      "Reached user-specified song limit (3).\n",
      "Done. Found 3 songs.\n"
     ]
    }
   ],
   "source": [
    "max_songs = 300\n",
    "genius = lyricsgenius.Genius(\"vMVlI2QFTag_htlNw3qi1UhyxihOwdQ5P13A1r7avD94tisUmuKpq34TlMtWOyzy\")\n",
    "artist = genius.search_artist(\"Bobby Darin\", max_songs, sort=\"title\")"
   ]
  },
  {
   "cell_type": "code",
   "execution_count": 81,
   "metadata": {},
   "outputs": [
    {
     "name": "stdout",
     "output_type": "stream",
     "text": [
      "File does not exist\n"
     ]
    }
   ],
   "source": [
    "filename = \"bobby-darin-lyrics.txt\"\n",
    "if os.path.exists(filename):\n",
    "  os.remove(filename)\n",
    "else:\n",
    "  print('File does not exist to be removed')"
   ]
  },
  {
   "cell_type": "code",
   "execution_count": 82,
   "metadata": {},
   "outputs": [],
   "source": [
    "for i in range(max_songs):\n",
    "\n",
    "    # Write lyrics to .txt file\n",
    "    with open(filename, 'a') as lyrics_file:\n",
    "        lyrics_file.write(artist.songs[1].lyrics)\n",
    "        lyrics_file.write('\\n\\n')\n",
    "print('Lyric Scraping Completed')"
   ]
  }
 ],
 "metadata": {
  "kernelspec": {
   "display_name": "Python 3",
   "language": "python",
   "name": "python3"
  },
  "language_info": {
   "codemirror_mode": {
    "name": "ipython",
    "version": 3
   },
   "file_extension": ".py",
   "mimetype": "text/x-python",
   "name": "python",
   "nbconvert_exporter": "python",
   "pygments_lexer": "ipython3",
   "version": "3.7.3"
  }
 },
 "nbformat": 4,
 "nbformat_minor": 2
}
